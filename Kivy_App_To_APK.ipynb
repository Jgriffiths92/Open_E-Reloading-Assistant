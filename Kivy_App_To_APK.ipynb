{
  "cells": [
    {
      "cell_type": "markdown",
      "metadata": {
        "colab_type": "text",
        "id": "view-in-github"
      },
      "source": [
        "<a href=\"https://colab.research.google.com/github/Jgriffiths92/Open_E-Reloading-Assistant/blob/master/Kivy_App_To_APK.ipynb\" target=\"_parent\"><img src=\"https://colab.research.google.com/assets/colab-badge.svg\" alt=\"Open In Colab\"/></a>"
      ]
    },
    {
      "cell_type": "markdown",
      "metadata": {
        "id": "ggWn7A0kCSHM"
      },
      "source": [
        "If still connected run the first 3 lines"
      ]
    },
    {
      "cell_type": "code",
      "execution_count": null,
      "metadata": {
        "id": "4t7ncrP4Yg10"
      },
      "outputs": [],
      "source": [
        "!rm -rf Open_E-Reloading-Assistant\n",
        "!rm -rf sample_data/\n",
        "!rm -rf bin/\n",
        "!rm -rf main.py\n",
        "!rm -rf buildozer.spec\n",
        "!rm -rf layout.kv\n",
        "!rm -rf extra_manifest.xml\n",
        "!rm -rf extra_intents.xml\n",
        "!rm -rf assets\n",
        "!rm -rf app\n",
        "!rm -rf res\n",
        "!rm -rf circularprogressbar.py"
      ]
    },
    {
      "cell_type": "code",
      "execution_count": null,
      "metadata": {
        "collapsed": true,
        "id": "OsT26_KLV4dI"
      },
      "outputs": [],
      "source": [
        "!git clone https://github.com/Jgriffiths92/Open_E-Reloading-Assistant.git"
      ]
    },
    {
      "cell_type": "code",
      "execution_count": null,
      "metadata": {
        "id": "Srpmf30vl-vX"
      },
      "outputs": [],
      "source": [
        "!mv /content/Open_E-Reloading-Assistant/main.py  ../content/\n",
        "!mv /content/Open_E-Reloading-Assistant/buildozer.spec  ../content/\n",
        "!mv /content/Open_E-Reloading-Assistant/layout.kv  ../content/\n",
        "!mv /content/Open_E-Reloading-Assistant/extra_manifest.xml  ../content/\n",
        "!mv /content/Open_E-Reloading-Assistant/extra_intents.xml  ../content/\n",
        "!mv /content/Open_E-Reloading-Assistant/assets  ../content/\n",
        "!mv /content/Open_E-Reloading-Assistant/app  ../content/\n",
        "!mv /content/Open_E-Reloading-Assistant/res  ../content/\n",
        "!mv /content/Open_E-Reloading-Assistant/circularprogressbar.py  ../content/"
      ]
    },
    {
      "cell_type": "code",
      "execution_count": null,
      "metadata": {
        "id": "esRK2FDYHHxS"
      },
      "outputs": [],
      "source": [
        "!pip install buildozer"
      ]
    },
    {
      "cell_type": "code",
      "execution_count": 5,
      "metadata": {
        "id": "dotCHcJtHOnF"
      },
      "outputs": [],
      "source": [
        "#!pip install cython"
      ]
    },
    {
      "cell_type": "code",
      "execution_count": null,
      "metadata": {
        "id": "zmT88qNYPDQd"
      },
      "outputs": [],
      "source": [
        "!sudo apt install -y git zip unzip openjdk-17-jdk python3-pip autoconf libtool pkg-config zlib1g-dev libncurses5-dev libncursesw5-dev libtinfo5 cmake libffi-dev libssl-dev\n",
        "!pip3 install --upgrade Cython==0.29.33 virtualenv  # the --user should be removed if you do this in a virtual enviroment"
      ]
    },
    {
      "cell_type": "code",
      "execution_count": null,
      "metadata": {
        "id": "ozxjnAHffL6s"
      },
      "outputs": [],
      "source": [
        "!pip install kivymd"
      ]
    },
    {
      "cell_type": "code",
      "execution_count": null,
      "metadata": {
        "id": "fPk201JDHRcF"
      },
      "outputs": [],
      "source": [
        "!sudo apt-get install -y \\\n",
        "    python3-pip \\\n",
        "    build-essential \\\n",
        "    git \\\n",
        "    python3 \\\n",
        "    python3-dev \\\n",
        "    ffmpeg \\\n",
        "    libsdl2-dev \\\n",
        "    libsdl2-image-dev \\\n",
        "    libsdl2-mixer-dev \\\n",
        "    libsdl2-ttf-dev \\\n",
        "    libportmidi-dev \\\n",
        "    libswscale-dev \\\n",
        "    libavformat-dev \\\n",
        "    libavcodec-dev \\\n",
        "    zlib1g-dev"
      ]
    },
    {
      "cell_type": "code",
      "execution_count": null,
      "metadata": {
        "id": "LHmN0gZvHSXd"
      },
      "outputs": [],
      "source": [
        "!sudo apt-get install -y \\\n",
        "    libgstreamer1.0 \\\n",
        "    gstreamer1.0-plugins-base \\\n",
        "    gstreamer1.0-plugins-good"
      ]
    },
    {
      "cell_type": "code",
      "execution_count": null,
      "metadata": {
        "id": "70-a3f8mMRk5"
      },
      "outputs": [],
      "source": [
        "!sudo apt-get install libffi7\n",
        "!sudo apt-get install build-essential libsqlite3-dev sqlite3 bzip2 libbz2-dev zlib1g-dev libssl-dev openssl libgdbm-dev libgdbm-compat-dev liblzma-dev libreadline-dev libncursesw5-dev libffi-dev uuid-dev libffi7"
      ]
    },
    {
      "cell_type": "code",
      "execution_count": 11,
      "metadata": {
        "id": "elrRZQ-fHUF1"
      },
      "outputs": [],
      "source": [
        "#!sudo apt-get install build-essential libsqlite3-dev sqlite3 bzip2 libbz2-dev zlib1g-dev libssl-dev openssl libgdbm-dev libgdbm-compat-dev liblzma-dev libreadline-dev libncursesw5-dev libffi-dev uuid-dev libffi7"
      ]
    },
    {
      "cell_type": "code",
      "execution_count": null,
      "metadata": {
        "id": "V3JJyY3NHVz1"
      },
      "outputs": [],
      "source": [
        "!sudo apt-get install libffi-dev"
      ]
    },
    {
      "cell_type": "code",
      "execution_count": null,
      "metadata": {
        "id": "sbL2gpx8HZ7t"
      },
      "outputs": [],
      "source": [
        "!yes | buildozer android clean"
      ]
    },
    {
      "cell_type": "code",
      "execution_count": null,
      "metadata": {
        "id": "kbwtcLV1HXpF"
      },
      "outputs": [],
      "source": [
        "!yes | buildozer init"
      ]
    },
    {
      "cell_type": "markdown",
      "metadata": {
        "id": "wfE7YJZUCnou"
      },
      "source": [
        "then run the below lines"
      ]
    },
    {
      "cell_type": "code",
      "execution_count": null,
      "metadata": {
        "collapsed": true,
        "id": "Z1pqOWngHY0O"
      },
      "outputs": [],
      "source": [
        "!yes | buildozer -v android debug"
      ]
    },
    {
      "cell_type": "code",
      "execution_count": 40,
      "metadata": {
        "colab": {
          "base_uri": "https://localhost:8080/",
          "height": 17
        },
        "id": "aD_LcBHhZIAM",
        "outputId": "02442d04-21d3-4d35-ad5d-f8a6afb9180a"
      },
      "outputs": [
        {
          "data": {
            "application/javascript": "\n    async function download(id, filename, size) {\n      if (!google.colab.kernel.accessAllowed) {\n        return;\n      }\n      const div = document.createElement('div');\n      const label = document.createElement('label');\n      label.textContent = `Downloading \"${filename}\": `;\n      div.appendChild(label);\n      const progress = document.createElement('progress');\n      progress.max = size;\n      div.appendChild(progress);\n      document.body.appendChild(div);\n\n      const buffers = [];\n      let downloaded = 0;\n\n      const channel = await google.colab.kernel.comms.open(id);\n      // Send a message to notify the kernel that we're ready.\n      channel.send({})\n\n      for await (const message of channel.messages) {\n        // Send a message to notify the kernel that we're ready.\n        channel.send({})\n        if (message.buffers) {\n          for (const buffer of message.buffers) {\n            buffers.push(buffer);\n            downloaded += buffer.byteLength;\n            progress.value = downloaded;\n          }\n        }\n      }\n      const blob = new Blob(buffers, {type: 'application/binary'});\n      const a = document.createElement('a');\n      a.href = window.URL.createObjectURL(blob);\n      a.download = filename;\n      div.appendChild(a);\n      a.click();\n      div.remove();\n    }\n  ",
            "text/plain": [
              "<IPython.core.display.Javascript object>"
            ]
          },
          "metadata": {},
          "output_type": "display_data"
        },
        {
          "data": {
            "application/javascript": "download(\"download_85395b70-52f8-4c94-a05a-603957c0582b\", \"open_edope-1.0-arm64-v8a_armeabi-v7a-debug.apk\", 43808763)",
            "text/plain": [
              "<IPython.core.display.Javascript object>"
            ]
          },
          "metadata": {},
          "output_type": "display_data"
        }
      ],
      "source": [
        "from google.colab import files\n",
        "files.download('bin/open_edope-1.0-arm64-v8a_armeabi-v7a-debug.apk')"
      ]
    }
  ],
  "metadata": {
    "colab": {
      "include_colab_link": true,
      "provenance": []
    },
    "kernelspec": {
      "display_name": "Python 3",
      "name": "python3"
    },
    "language_info": {
      "name": "python"
    }
  },
  "nbformat": 4,
  "nbformat_minor": 0
}
